{
 "cells": [
  {
   "cell_type": "code",
   "execution_count": 1,
   "id": "b188c015",
   "metadata": {},
   "outputs": [],
   "source": [
    "# import the random module \n",
    "import random "
   ]
  },
  {
   "cell_type": "code",
   "execution_count": 2,
   "id": "22e7e294",
   "metadata": {},
   "outputs": [
    {
     "data": {
      "text/plain": [
       "0.12131099342388729"
      ]
     },
     "execution_count": 2,
     "metadata": {},
     "output_type": "execute_result"
    }
   ],
   "source": [
    "# floating point number between 0-1 \n",
    "random.random()"
   ]
  },
  {
   "cell_type": "code",
   "execution_count": 3,
   "id": "638bed42",
   "metadata": {},
   "outputs": [
    {
     "data": {
      "text/plain": [
       "1"
      ]
     },
     "execution_count": 3,
     "metadata": {},
     "output_type": "execute_result"
    }
   ],
   "source": [
    "# Generate random number within integer range \n",
    "random.randint(-10, 10)"
   ]
  },
  {
   "cell_type": "code",
   "execution_count": 4,
   "id": "ebafe943",
   "metadata": {},
   "outputs": [
    {
     "data": {
      "text/plain": [
       "-5"
      ]
     },
     "execution_count": 4,
     "metadata": {},
     "output_type": "execute_result"
    }
   ],
   "source": [
    "# similair to random integer range, but uses step \n",
    "random.randrange(-9,9,2)"
   ]
  },
  {
   "cell_type": "code",
   "execution_count": 5,
   "id": "0aa7d171",
   "metadata": {},
   "outputs": [
    {
     "data": {
      "text/plain": [
       "-8.227673710963352"
      ]
     },
     "execution_count": 5,
     "metadata": {},
     "output_type": "execute_result"
    }
   ],
   "source": [
    "# random uniform method, value within range that is not an integer \n",
    "# can use a round to get specific decimal places \n",
    "random.uniform(-10, 10) "
   ]
  },
  {
   "cell_type": "code",
   "execution_count": 6,
   "id": "184fcdad",
   "metadata": {},
   "outputs": [
    {
     "data": {
      "text/plain": [
       "-74.03367737963286"
      ]
     },
     "execution_count": 6,
     "metadata": {},
     "output_type": "execute_result"
    }
   ],
   "source": [
    "# Trying with random.randint and random.random \n",
    "random_number = random.randint(-90, 89) + random.random()\n",
    "random_number"
   ]
  },
  {
   "cell_type": "code",
   "execution_count": 7,
   "id": "f417f5ba",
   "metadata": {},
   "outputs": [
    {
     "data": {
      "text/plain": [
       "[-60.06119327432592,\n",
       " -38.42947199036866,\n",
       " 12.828636097491636,\n",
       " 35.85063596921317,\n",
       " -71.73105370454111,\n",
       " 52.17529828841582,\n",
       " -40.8708341289241,\n",
       " 47.63710070307088,\n",
       " -38.95089705271251,\n",
       " -7.0108361143435305]"
      ]
     },
     "execution_count": 7,
     "metadata": {},
     "output_type": "execute_result"
    }
   ],
   "source": [
    "# alg to generate random lats between -90 and 89 \n",
    "x =1 \n",
    "latitudes = [] \n",
    "while x < 11: \n",
    "    random_lat = random.randint(-90, 89) + random.random()\n",
    "    latitudes.append(random_lat)\n",
    "    x += 1 \n",
    "latitudes"
   ]
  },
  {
   "cell_type": "code",
   "execution_count": 8,
   "id": "3c113e25",
   "metadata": {},
   "outputs": [],
   "source": [
    "# import numpy \n",
    "import numpy as np"
   ]
  },
  {
   "cell_type": "code",
   "execution_count": 9,
   "id": "71732a83",
   "metadata": {},
   "outputs": [
    {
     "data": {
      "text/plain": [
       "20.279929943068268"
      ]
     },
     "execution_count": 9,
     "metadata": {},
     "output_type": "execute_result"
    }
   ],
   "source": [
    "np.random.uniform(-90.000, 90.000)"
   ]
  },
  {
   "cell_type": "code",
   "execution_count": 10,
   "id": "33478e63",
   "metadata": {},
   "outputs": [
    {
     "data": {
      "text/plain": [
       "array([-74.22231889, -48.97336714,  75.26076003,  44.73951338,\n",
       "        63.42572651,  -5.72158161, -64.44453429,  54.0012723 ,\n",
       "       -87.04142242, -11.75731549,  25.0490756 , -88.65433304,\n",
       "       -63.56901223,  23.46351038, -62.96562691, -11.83054025,\n",
       "        44.15266045,  80.44461358,  70.98512015, -13.8867405 ,\n",
       "        -8.55382633, -53.53138802, -16.08479399,  78.12606167,\n",
       "        45.54004996,  64.4460622 , -86.90692278, -58.05574442,\n",
       "       -22.18514628,  84.53008852,   6.57596104,  42.64966037,\n",
       "       -14.14070697,  39.13696247,  77.25115966, -68.18271297,\n",
       "       -55.47078148, -14.99701479,  59.06296987, -17.70450662,\n",
       "        46.38030403, -79.29526032,  -4.96554942,  25.25825042,\n",
       "         7.54005849, -20.3512505 ,  71.39734292,   4.45235535,\n",
       "        76.94628511,  39.61266681])"
      ]
     },
     "execution_count": 10,
     "metadata": {},
     "output_type": "execute_result"
    }
   ],
   "source": [
    "# dont need the .000, also adding size will output an array\n",
    "np.random.uniform(-90, 90, size=50)"
   ]
  },
  {
   "cell_type": "code",
   "execution_count": 11,
   "id": "db282f59",
   "metadata": {},
   "outputs": [],
   "source": [
    "# import timeit module \n",
    "import timeit"
   ]
  },
  {
   "cell_type": "code",
   "execution_count": 12,
   "id": "d9c0f1a0",
   "metadata": {},
   "outputs": [
    {
     "name": "stdout",
     "output_type": "stream",
     "text": [
      "18.9 µs ± 17.4 ns per loop (mean ± std. dev. of 7 runs, 100000 loops each)\n"
     ]
    }
   ],
   "source": [
    "%timeit np.random.uniform(-90, 90, size=1500)"
   ]
  },
  {
   "cell_type": "code",
   "execution_count": 13,
   "id": "36655bc4",
   "metadata": {},
   "outputs": [
    {
     "name": "stdout",
     "output_type": "stream",
     "text": [
      "1.09 ms ± 1.27 µs per loop (mean ± std. dev. of 7 runs, 1000 loops each)\n"
     ]
    }
   ],
   "source": [
    "def latitudes(size):\n",
    "    latitudes = []\n",
    "    x = 0\n",
    "    while x < (size):\n",
    "        random_lat = random.randint(-90, 90) + random.random() \n",
    "        latitudes.append(random_lat)\n",
    "        x += 1 \n",
    "    return latitudes \n",
    "# call the function with 1500 \n",
    "%timeit latitudes(1500) "
   ]
  },
  {
   "cell_type": "code",
   "execution_count": 14,
   "id": "2400d9e9",
   "metadata": {},
   "outputs": [],
   "source": [
    "# import linear regression from SciPy States Module \n",
    "from scipy.stats import linregress"
   ]
  },
  {
   "cell_type": "code",
   "execution_count": 16,
   "id": "532db2c7",
   "metadata": {},
   "outputs": [],
   "source": [
    "# Create an equal number of latitudes and temperatures.\n",
    "lats = [42.5, 43.9, 8.1, 36.8, 79.9, 69.1, 25.7, 15.3, 12.7, 64.5]\n",
    "temps = [80.5, 75.3, 90.9, 90.0, 40.4, 62.3, 85.4, 79.6, 72.5, 72.0]"
   ]
  },
  {
   "cell_type": "code",
   "execution_count": 21,
   "id": "757a59b8",
   "metadata": {},
   "outputs": [
    {
     "name": "stdout",
     "output_type": "stream",
     "text": [
      "y = -0.45x + 92.94\n",
      "The p-value is: 0.011\n"
     ]
    }
   ],
   "source": [
    "# Perform linear regression \n",
    "(slope, intercept, r_value, p_value, std_err) = linregress(lats, temps)\n",
    "# Get the equation of the line \n",
    "line_eq = \"y = \" + str(round(slope,2)) + \"x + \" + str(round(intercept,2))\n",
    "\n",
    "print(line_eq)\n",
    "print(f'The p-value is: {p_value:.3f}')"
   ]
  },
  {
   "cell_type": "code",
   "execution_count": 24,
   "id": "dda7d13f",
   "metadata": {},
   "outputs": [],
   "source": [
    "# calc the regression line 'y values' from the slope and intercept \n",
    "regress_values = [(lat * slope + intercept) for lat in lats]\n"
   ]
  },
  {
   "cell_type": "code",
   "execution_count": 26,
   "id": "f32525e9",
   "metadata": {},
   "outputs": [
    {
     "data": {
      "image/png": "[encoded data removed]",
      "text/plain": [
       "<Figure size 432x288 with 1 Axes>"
      ]
     },
     "metadata": {
      "needs_background": "light"
     },
     "output_type": "display_data"
    }
   ],
   "source": [
    "# import matplotlib \n",
    "import matplotlib.pyplot as plt \n",
    "\n",
    "# create a scatter plot for x and y \n",
    "plt.scatter(lats, temps)\n",
    "\n",
    "#plot the regression line\n",
    "plt.plot(lats,regress_values,'r')\n",
    "\n",
    "#annotate the text \n",
    "plt.annotate(line_eq, (10,40), fontsize=15, color='red')\n",
    "plt.xlabel('latitude')\n",
    "plt.ylabel('Temp')\n",
    "plt.show()"
   ]
  },
  {
   "cell_type": "code",
   "execution_count": 28,
   "id": "d38e590e",
   "metadata": {},
   "outputs": [],
   "source": []
  },
  {
   "cell_type": "code",
   "execution_count": 31,
   "id": "085a3432",
   "metadata": {},
   "outputs": [
    {
     "ename": "NameError",
     "evalue": "name 'city_data_df' is not defined",
     "output_type": "error",
     "traceback": [
      "\u001b[0;31m---------------------------------------------------------------------------\u001b[0m",
      "\u001b[0;31mNameError\u001b[0m                                 Traceback (most recent call last)",
      "\u001b[0;32m/var/folders/k6/4mvrnvj57x7539_gp2h0jjg80000gn/T/ipykernel_22860/3866943892.py\u001b[0m in \u001b[0;36m<module>\u001b[0;34m\u001b[0m\n\u001b[0;32m----> 1\u001b[0;31m \u001b[0mcity_data_df\u001b[0m\u001b[0;34m\u001b[0m\u001b[0;34m\u001b[0m\u001b[0m\n\u001b[0m",
      "\u001b[0;31mNameError\u001b[0m: name 'city_data_df' is not defined"
     ]
    }
   ],
   "source": [
    "city_data_df"
   ]
  }
 ],
 "metadata": {
  "kernelspec": {
   "display_name": "PythonData",
   "language": "python",
   "name": "pythondata"
  },
  "language_info": {
   "codemirror_mode": {
    "name": "ipython",
    "version": 3
   },
   "file_extension": ".py",
   "mimetype": "text/x-python",
   "name": "python",
   "nbconvert_exporter": "python",
   "pygments_lexer": "ipython3",
   "version": "3.9.7"
  }
 },
 "nbformat": 4,
 "nbformat_minor": 5
}
