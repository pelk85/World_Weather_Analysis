{
 "cells": [
  {
   "cell_type": "code",
   "execution_count": 1,
   "id": "b188c015",
   "metadata": {},
   "outputs": [],
   "source": [
    "# import the random module \n",
    "import random "
   ]
  },
  {
   "cell_type": "code",
   "execution_count": 3,
   "id": "22e7e294",
   "metadata": {},
   "outputs": [
    {
     "data": {
      "text/plain": [
       "0.868419351177794"
      ]
     },
     "execution_count": 3,
     "metadata": {},
     "output_type": "execute_result"
    }
   ],
   "source": [
    "# floating point number between 0-1 \n",
    "random.random()"
   ]
  },
  {
   "cell_type": "code",
   "execution_count": 4,
   "id": "638bed42",
   "metadata": {},
   "outputs": [
    {
     "data": {
      "text/plain": [
       "-5"
      ]
     },
     "execution_count": 4,
     "metadata": {},
     "output_type": "execute_result"
    }
   ],
   "source": [
    "# Generate random number within integer range \n",
    "random.randint(-10, 10)"
   ]
  },
  {
   "cell_type": "code",
   "execution_count": 5,
   "id": "ebafe943",
   "metadata": {},
   "outputs": [
    {
     "data": {
      "text/plain": [
       "-7"
      ]
     },
     "execution_count": 5,
     "metadata": {},
     "output_type": "execute_result"
    }
   ],
   "source": [
    "# similair to random integer range, but uses step \n",
    "random.randrange(-9,9,2)"
   ]
  },
  {
   "cell_type": "code",
   "execution_count": 7,
   "id": "0aa7d171",
   "metadata": {},
   "outputs": [
    {
     "data": {
      "text/plain": [
       "-3.1968096222386126"
      ]
     },
     "execution_count": 7,
     "metadata": {},
     "output_type": "execute_result"
    }
   ],
   "source": [
    "# random uniform method, value within range that is not an integer \n",
    "# can use a round to get specific decimal places \n",
    "random.uniform(-10, 10) "
   ]
  },
  {
   "cell_type": "code",
   "execution_count": 10,
   "id": "184fcdad",
   "metadata": {},
   "outputs": [
    {
     "data": {
      "text/plain": [
       "38.95031440434349"
      ]
     },
     "execution_count": 10,
     "metadata": {},
     "output_type": "execute_result"
    }
   ],
   "source": [
    "# Trying with random.randint and random.random \n",
    "random_number = random.randint(-90, 89) + random.random()\n",
    "random_number"
   ]
  },
  {
   "cell_type": "code",
   "execution_count": 12,
   "id": "f417f5ba",
   "metadata": {},
   "outputs": [
    {
     "data": {
      "text/plain": [
       "[-14.952040754727202,\n",
       " 42.61741677976159,\n",
       " 20.526421143772755,\n",
       " -4.084285428848629,\n",
       " -55.0565849985841,\n",
       " 42.141029347125034,\n",
       " 40.10603560821057,\n",
       " -74.89123987925291,\n",
       " 74.52805154120233,\n",
       " -64.27123533809872]"
      ]
     },
     "execution_count": 12,
     "metadata": {},
     "output_type": "execute_result"
    }
   ],
   "source": [
    "# alg to generate random lats between -90 and 89 \n",
    "x =1 \n",
    "latitudes = [] \n",
    "while x < 11: \n",
    "    random_lat = random.randint(-90, 89) + random.random()\n",
    "    latitudes.append(random_lat)\n",
    "    x += 1 \n",
    "latitudes"
   ]
  },
  {
   "cell_type": "code",
   "execution_count": 13,
   "id": "3c113e25",
   "metadata": {},
   "outputs": [],
   "source": [
    "# import numpy \n",
    "import numpy as np"
   ]
  },
  {
   "cell_type": "code",
   "execution_count": 14,
   "id": "71732a83",
   "metadata": {},
   "outputs": [
    {
     "data": {
      "text/plain": [
       "69.98926382838007"
      ]
     },
     "execution_count": 14,
     "metadata": {},
     "output_type": "execute_result"
    }
   ],
   "source": [
    "np.random.uniform(-90.000, 90.000)"
   ]
  },
  {
   "cell_type": "code",
   "execution_count": 17,
   "id": "33478e63",
   "metadata": {},
   "outputs": [
    {
     "data": {
      "text/plain": [
       "array([-46.08379338, -67.34282498,  33.03556162,  14.66100244,\n",
       "        50.92191147, -14.80247784, -36.95635166,  67.52120596,\n",
       "        37.97984893,  32.12479402,  72.12892106,  37.26166687,\n",
       "       -79.30023957, -68.06861139, -33.98384726, -86.05074954,\n",
       "        -8.78702283,  84.88161994,  55.2759713 , -17.08779638,\n",
       "       -12.63421259, -34.5996116 ,  23.65268587,  33.96561019,\n",
       "       -16.14797182,  19.13573078, -73.3472513 , -42.60428393,\n",
       "       -71.11495478,  67.25064757,  30.7523753 , -34.07631033,\n",
       "       -41.88482414,  37.44089767,   4.78775984, -68.85573321,\n",
       "       -76.88826222,  -9.81631481,  57.27101426,  17.26955481,\n",
       "        76.443181  , -28.21357727,   9.68766879,  52.34371763,\n",
       "         2.73782933, -24.36000531, -61.54997121, -53.47192527,\n",
       "        25.00721804, -34.62783492])"
      ]
     },
     "execution_count": 17,
     "metadata": {},
     "output_type": "execute_result"
    }
   ],
   "source": [
    "# dont need the .000, also adding size will output an array\n",
    "np.random.uniform(-90, 90, size=50)"
   ]
  },
  {
   "cell_type": "code",
   "execution_count": 18,
   "id": "db282f59",
   "metadata": {},
   "outputs": [],
   "source": [
    "# import timeit module \n",
    "import timeit"
   ]
  },
  {
   "cell_type": "code",
   "execution_count": 19,
   "id": "d9c0f1a0",
   "metadata": {},
   "outputs": [
    {
     "name": "stdout",
     "output_type": "stream",
     "text": [
      "15 µs ± 24.5 ns per loop (mean ± std. dev. of 7 runs, 100000 loops each)\n"
     ]
    }
   ],
   "source": [
    "%timeit np.random.uniform(-90, 90, size=1500)"
   ]
  },
  {
   "cell_type": "code",
   "execution_count": 20,
   "id": "36655bc4",
   "metadata": {},
   "outputs": [
    {
     "name": "stdout",
     "output_type": "stream",
     "text": [
      "1.1 ms ± 3.27 µs per loop (mean ± std. dev. of 7 runs, 1000 loops each)\n"
     ]
    }
   ],
   "source": [
    "def latitudes(size):\n",
    "    latitudes = []\n",
    "    x = 0\n",
    "    while x < (size):\n",
    "        random_lat = random.randint(-90, 90) + random.random() \n",
    "        latitudes.append(random_lat)\n",
    "        x += 1 \n",
    "    return latitudes \n",
    "# call the function with 1500 \n",
    "%timeit latitudes(1500) "
   ]
  }
 ],
 "metadata": {
  "kernelspec": {
   "display_name": "PythonData",
   "language": "python",
   "name": "pythondata"
  },
  "language_info": {
   "codemirror_mode": {
    "name": "ipython",
    "version": 3
   },
   "file_extension": ".py",
   "mimetype": "text/x-python",
   "name": "python",
   "nbconvert_exporter": "python",
   "pygments_lexer": "ipython3",
   "version": "3.9.7"
  }
 },
 "nbformat": 4,
 "nbformat_minor": 5
}
