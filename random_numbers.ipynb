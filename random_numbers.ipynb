{
 "cells": [
  {
   "cell_type": "code",
   "execution_count": 1,
   "id": "b188c015",
   "metadata": {},
   "outputs": [],
   "source": [
    "# import the random module \n",
    "import random "
   ]
  },
  {
   "cell_type": "code",
   "execution_count": 3,
   "id": "97320c5c",
   "metadata": {},
   "outputs": [
    {
     "data": {
      "text/plain": [
       "0.868419351177794"
      ]
     },
     "execution_count": 3,
     "metadata": {},
     "output_type": "execute_result"
    }
   ],
   "source": [
    "# floating point number between 0-1 \n",
    "random.random()"
   ]
  },
  {
   "cell_type": "code",
   "execution_count": 4,
   "id": "b6755767",
   "metadata": {},
   "outputs": [
    {
     "data": {
      "text/plain": [
       "-5"
      ]
     },
     "execution_count": 4,
     "metadata": {},
     "output_type": "execute_result"
    }
   ],
   "source": [
    "# Generate random number within integer range \n",
    "random.randint(-10, 10)"
   ]
  },
  {
   "cell_type": "code",
   "execution_count": 5,
   "id": "12bbb0a3",
   "metadata": {},
   "outputs": [
    {
     "data": {
      "text/plain": [
       "-7"
      ]
     },
     "execution_count": 5,
     "metadata": {},
     "output_type": "execute_result"
    }
   ],
   "source": [
    "# similair to random integer range, but uses step \n",
    "random.randrange(-9,9,2)"
   ]
  },
  {
   "cell_type": "code",
   "execution_count": 7,
   "id": "697e5ada",
   "metadata": {},
   "outputs": [
    {
     "data": {
      "text/plain": [
       "-3.1968096222386126"
      ]
     },
     "execution_count": 7,
     "metadata": {},
     "output_type": "execute_result"
    }
   ],
   "source": [
    "# random uniform method, value within range that is not an integer \n",
    "# can use a round to get specific decimal places \n",
    "random.uniform(-10, 10) "
   ]
  },
  {
   "cell_type": "code",
   "execution_count": 10,
   "id": "082b36f9",
   "metadata": {},
   "outputs": [
    {
     "data": {
      "text/plain": [
       "38.95031440434349"
      ]
     },
     "execution_count": 10,
     "metadata": {},
     "output_type": "execute_result"
    }
   ],
   "source": [
    "# Trying with random.randint and random.random \n",
    "random_number = random.randint(-90, 89) + random.random()\n",
    "random_number"
   ]
  },
  {
   "cell_type": "code",
   "execution_count": 11,
   "id": "4d59d784",
   "metadata": {},
   "outputs": [
    {
     "data": {
      "text/plain": [
       "[-67.71256768340758,\n",
       " 11.777967399342318,\n",
       " -53.59725487216489,\n",
       " 80.88003809796358,\n",
       " -86.83785720929511,\n",
       " -24.641974928566064,\n",
       " -20.157343345909233,\n",
       " 71.72719989691521,\n",
       " 20.37148780153836,\n",
       " 70.65032241414978]"
      ]
     },
     "execution_count": 11,
     "metadata": {},
     "output_type": "execute_result"
    }
   ],
   "source": [
    "# alg to generate random lats between -90 and 89 \n",
    "x =1 \n",
    "latitudes = [] \n",
    "while x < 11: \n",
    "    random_lat = random.randint(-90, 89) + random.random()\n",
    "    latitudes.append(random_lat)\n",
    "    x += 1 \n",
    "latitudes"
   ]
  }
 ],
 "metadata": {
  "kernelspec": {
   "display_name": "PythonData",
   "language": "python",
   "name": "pythondata"
  },
  "language_info": {
   "codemirror_mode": {
    "name": "ipython",
    "version": 3
   },
   "file_extension": ".py",
   "mimetype": "text/x-python",
   "name": "python",
   "nbconvert_exporter": "python",
   "pygments_lexer": "ipython3",
   "version": "3.9.7"
  }
 },
 "nbformat": 4,
 "nbformat_minor": 5
}
